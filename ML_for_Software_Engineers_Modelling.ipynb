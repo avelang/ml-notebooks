{
  "nbformat": 4,
  "nbformat_minor": 0,
  "metadata": {
    "colab": {
      "name": "ML for Software Engineers : Modelling.ipynb",
      "provenance": [],
      "toc_visible": true
    },
    "kernelspec": {
      "name": "python3",
      "display_name": "Python 3"
    }
  },
  "cells": [
    {
      "cell_type": "markdown",
      "metadata": {
        "id": "XFGF8hbj-ba2",
        "colab_type": "text"
      },
      "source": [
        ""
      ]
    },
    {
      "cell_type": "code",
      "metadata": {
        "id": "kzcL3FKw5Ipl",
        "colab_type": "code",
        "colab": {}
      },
      "source": [
        "import numpy as np\n",
        "import pandas as pd\n",
        "import sklearn\n",
        "import matplotlib.pyplot as plt"
      ],
      "execution_count": 0,
      "outputs": []
    },
    {
      "cell_type": "code",
      "metadata": {
        "id": "31Z6Vu69rRfX",
        "colab_type": "code",
        "colab": {}
      },
      "source": [
        "import numpy as np\n",
        "data = np.array([\n",
        "  [5.1, 3.5, 1.4, 0.2],\n",
        "  [4.9, 3. , 1.4, 0.2],\n",
        "  [4.7, 3.2, 1.3, 0.2],\n",
        "  [4.6, 3.1, 1.5, 0.2],\n",
        "  [5. , 3.6, 1.4, 0.2],\n",
        "  [5.4, 3.9, 1.7, 0.4],\n",
        "  [4.6, 3.4, 1.4, 0.3],\n",
        "  [5. , 3.4, 1.5, 0.2],\n",
        "  [4.4, 2.9, 1.4, 0.2],\n",
        "  [4.9, 3.1, 1.5, 0.1]])"
      ],
      "execution_count": 0,
      "outputs": []
    },
    {
      "cell_type": "markdown",
      "metadata": {
        "id": "O5RVupTtUs88",
        "colab_type": "text"
      },
      "source": [
        "# Data Modelling"
      ]
    },
    {
      "cell_type": "markdown",
      "metadata": {
        "id": "e24fIUWn5CMS",
        "colab_type": "text"
      },
      "source": [
        "# Linear Regression"
      ]
    },
    {
      "cell_type": "markdown",
      "metadata": {
        "id": "W3s_NfKv_H9M",
        "colab_type": "text"
      },
      "source": [
        "Regression involves a set of techniques to estimate the relatioship between a dependent variable and one or more independent variables. It's function fitting really. Linear Regression is the most simplest technique. It's line fitting a data distribution. It's also called **Ordinary least squares regression**"
      ]
    },
    {
      "cell_type": "code",
      "metadata": {
        "id": "viMEV9E55Irv",
        "colab_type": "code",
        "colab": {}
      },
      "source": [
        "# LinearRegression object from sklearn.linear_model module\n",
        "from sklearn import linear_model"
      ],
      "execution_count": 0,
      "outputs": []
    },
    {
      "cell_type": "markdown",
      "metadata": {
        "id": "KNj_0-UtQxB_",
        "colab_type": "text"
      },
      "source": [
        "# Regularization"
      ]
    },
    {
      "cell_type": "markdown",
      "metadata": {
        "id": "ztexbWMk-fww",
        "colab_type": "text"
      },
      "source": [
        "\n",
        "Linearly correlated features in the dataset adds to the noise.\n",
        "Regularization helps to reduce the noise in data. Ridge as well as Lasso Regressions are both regularization techniques. \n",
        "They use a hyperparameter term 'alpha'(a penalty term). These techniques work by penalizing the magnitude of coefficients of features.(in addition to minimizing the error between predicted and actual observations.). Rather than manually alpha is determined by cross-validation.\n"
      ]
    },
    {
      "cell_type": "markdown",
      "metadata": {
        "id": "mZvMl2_A5GEj",
        "colab_type": "text"
      },
      "source": [
        " > # Ridge Regression\n",
        "> # Lasso Regression\n",
        "\n",
        "\n"
      ]
    },
    {
      "cell_type": "code",
      "metadata": {
        "id": "ddPYgxO15QRH",
        "colab_type": "code",
        "colab": {}
      },
      "source": [
        "# Ridge object from sklearn.linear_model module\n",
        "# Lasso object from sklearn.linear_model module\n",
        "from sklearn import linear_model\n",
        "ridge_reg = linear_model.Ridge() # uses l2 norm as penalty term\n",
        "lasso_reg = linear_model.Lasso() # uses l1 norm as penalty term"
      ],
      "execution_count": 0,
      "outputs": []
    },
    {
      "cell_type": "markdown",
      "metadata": {
        "id": "zdyjUPIduqlM",
        "colab_type": "text"
      },
      "source": [
        "# Cross-Validation"
      ]
    }
  ]
}