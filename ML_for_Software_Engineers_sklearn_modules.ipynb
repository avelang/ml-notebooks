{
  "nbformat": 4,
  "nbformat_minor": 0,
  "metadata": {
    "colab": {
      "name": "ML_for_Software_Engineers_sklearn_modules.ipynb",
      "provenance": [],
      "authorship_tag": "ABX9TyMnELjbioax3LyfiM1SFI57",
      "include_colab_link": true
    },
    "kernelspec": {
      "name": "python3",
      "display_name": "Python 3"
    }
  },
  "cells": [
    {
      "cell_type": "markdown",
      "metadata": {
        "id": "view-in-github",
        "colab_type": "text"
      },
      "source": [
        "<a href=\"https://colab.research.google.com/github/avelang/ml-notebooks/blob/master/ML_for_Software_Engineers_sklearn_modules.ipynb\" target=\"_parent\"><img src=\"https://colab.research.google.com/assets/colab-badge.svg\" alt=\"Open In Colab\"/></a>"
      ]
    },
    {
      "cell_type": "markdown",
      "metadata": {
        "id": "5EVjW2FzLkao",
        "colab_type": "text"
      },
      "source": [
        "# Data Pre-processing"
      ]
    },
    {
      "cell_type": "markdown",
      "metadata": {
        "id": "qzF1eqOGLtu6",
        "colab_type": "text"
      },
      "source": [
        "Data pre-processing involves scaling, normalizing the data etc"
      ]
    },
    {
      "cell_type": "code",
      "metadata": {
        "id": "PF2F0kuHLa-w",
        "colab_type": "code",
        "colab": {}
      },
      "source": [
        "import sklearn\n",
        "from sklearn.preprocessing import scale # to standardize data"
      ],
      "execution_count": 0,
      "outputs": []
    },
    {
      "cell_type": "markdown",
      "metadata": {
        "id": "WC_qzCRlSGjh",
        "colab_type": "text"
      },
      "source": [
        "# Clustering"
      ]
    },
    {
      "cell_type": "markdown",
      "metadata": {
        "id": "ilRDswLoSoMK",
        "colab_type": "text"
      },
      "source": [
        "K Means Clustering\n",
        "\n",
        "*   K = number of clusters; default value = 5\n",
        "*   Assumes clusters are spherical in shape\n",
        "\n"
      ]
    },
    {
      "cell_type": "code",
      "metadata": {
        "id": "HWxNlxkHSOag",
        "colab_type": "code",
        "colab": {}
      },
      "source": [
        "from sklearn.cluster import KMeans\n",
        "kmeans = KMeans(n_clusters=3)"
      ],
      "execution_count": 0,
      "outputs": []
    },
    {
      "cell_type": "markdown",
      "metadata": {
        "id": "IOnl_Cr6TEIK",
        "colab_type": "text"
      },
      "source": [
        "Agglomerative Clustering (bottom-up hierarchial clustering)\n",
        "\n",
        "*   No assumptions on cluster shape\n",
        "\n"
      ]
    },
    {
      "cell_type": "code",
      "metadata": {
        "id": "hS2w4dhqTHnG",
        "colab_type": "code",
        "colab": {}
      },
      "source": [
        "from sklearn.cluster import AgglomerativeClustering\n",
        "agg = AgglomerativeClustering(n_clusters=3)"
      ],
      "execution_count": 0,
      "outputs": []
    },
    {
      "cell_type": "markdown",
      "metadata": {
        "id": "Y3LHU5RzUHpR",
        "colab_type": "text"
      },
      "source": [
        "Mean Shift Clustering\n",
        "\n",
        "*   Number of clusters is not assumed\n",
        "*   Forms clusters from blobs of data"
      ]
    },
    {
      "cell_type": "code",
      "metadata": {
        "id": "qUgY1Mv_ULal",
        "colab_type": "code",
        "colab": {}
      },
      "source": [
        "from sklearn.cluster import MeanShift\n",
        "mean_shift = MeanShift() # no need to specify the number of clusters"
      ],
      "execution_count": 0,
      "outputs": []
    },
    {
      "cell_type": "markdown",
      "metadata": {
        "id": "3odTEjCPWDEQ",
        "colab_type": "text"
      },
      "source": [
        "DBSCAN\n",
        "\n",
        "*   Scales better than MeanShift Clustering\n",
        "*   clusters data by finding dense regions in the dataset\n",
        "*   clusters consist of core samples\n",
        "\n"
      ]
    },
    {
      "cell_type": "code",
      "metadata": {
        "id": "ZYRSrBvuWQB0",
        "colab_type": "code",
        "colab": {}
      },
      "source": [
        "# eps -> the maximum distance, ε, between two data observations that are considered neighbors\n",
        "from sklearn.cluster import DBSCAN\n",
        "dbscan = DBSCAN(eps=1.2, min_samples=30)"
      ],
      "execution_count": 0,
      "outputs": []
    },
    {
      "cell_type": "markdown",
      "metadata": {
        "id": "luQe1xzUYhXm",
        "colab_type": "text"
      },
      "source": [
        "# Metrics"
      ]
    },
    {
      "cell_type": "markdown",
      "metadata": {
        "id": "ViJVCj8ZYlUr",
        "colab_type": "text"
      },
      "source": [
        "To calculate scores to evaluate cluster models\n",
        "\n",
        "*   adjusted_rand_score\n",
        "*   adjusted_mutual_info_score\n",
        "\n"
      ]
    },
    {
      "cell_type": "code",
      "metadata": {
        "id": "P03i6ws1ZTi-",
        "colab_type": "code",
        "colab": {}
      },
      "source": [
        "from sklearn.metrics import adjusted_rand_score\n",
        "from sklearn.metrics import adjusted_mutual_info_score"
      ],
      "execution_count": 0,
      "outputs": []
    },
    {
      "cell_type": "markdown",
      "metadata": {
        "id": "1VY0b2zcZw4D",
        "colab_type": "text"
      },
      "source": [
        "The ARI and AMI metrics both assign \n",
        "*   a score of 1.0 to perfect labelings\n",
        "*   a score near 0.0 to random labelings\n",
        "*   negative scores to poor labelings.\n",
        "\n",
        "ARI is used when \n",
        "*   the true clusters are large and approximately equal sized, \n",
        "AMI is used when \n",
        "*   the true clusters are unbalanced in size and there exist small clusters.\n",
        "\n",
        "\n"
      ]
    },
    {
      "cell_type": "markdown",
      "metadata": {
        "id": "ZndH1CFPa36E",
        "colab_type": "text"
      },
      "source": [
        "# Feature Clustering\n",
        "\n",
        "*   For Dimensionality Reduction\n",
        "\n"
      ]
    },
    {
      "cell_type": "code",
      "metadata": {
        "id": "tEF76AXcbDF5",
        "colab_type": "code",
        "colab": {}
      },
      "source": [
        "from sklearn.cluster import FeatureAgglomeration\n",
        "agg = FeatureAgglomeration(n_clusters=2)\n",
        "new_data = agg.fit_transform(data)"
      ],
      "execution_count": 0,
      "outputs": []
    }
  ]
}