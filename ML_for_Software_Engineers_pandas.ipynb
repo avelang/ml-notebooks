{
  "nbformat": 4,
  "nbformat_minor": 0,
  "metadata": {
    "colab": {
      "name": "ML for Software Engineers - pandas.ipynb",
      "provenance": [],
      "collapsed_sections": [
        "mu16qHg_4YFi"
      ],
      "toc_visible": true
    },
    "kernelspec": {
      "name": "python3",
      "display_name": "Python 3"
    }
  },
  "cells": [
    {
      "cell_type": "code",
      "metadata": {
        "id": "nzdXbVFJl0LC",
        "colab_type": "code",
        "colab": {}
      },
      "source": [
        "import pandas as pd"
      ],
      "execution_count": 0,
      "outputs": []
    },
    {
      "cell_type": "code",
      "metadata": {
        "id": "YZZQkMV0PZ5s",
        "colab_type": "code",
        "colab": {}
      },
      "source": [
        "# define a dataframe\n",
        "df = pd.DataFrame({\n",
        "  'T1': [0.1, 150.],\n",
        "  'T2': [0.25, 240.],\n",
        "  'T3': [0.16, 100.]})\n",
        "  \n",
        "print('{}\\n'.format(df))"
      ],
      "execution_count": 0,
      "outputs": []
    },
    {
      "cell_type": "code",
      "metadata": {
        "id": "FU-iY3SGmOQs",
        "colab_type": "code",
        "colab": {}
      },
      "source": [
        "print('{}\\n'.format(df.multiply(2)))"
      ],
      "execution_count": 0,
      "outputs": []
    },
    {
      "cell_type": "code",
      "metadata": {
        "id": "2dMES_Kxmj4_",
        "colab_type": "code",
        "colab": {}
      },
      "source": [
        "# Multiply\n",
        "# print the dataframe as is\n",
        "print('Before multiply')\n",
        "print('{}\\n'.format(df)) \n",
        "\n",
        "# df.multiply(arg1, arg2)\n",
        "# arg1 -> array of multipliers for each row or column\n",
        "# arg2 -> specifies rows or columns i.e. axis=0 => rows; axis=1 => columns\n",
        "\n",
        "# multiply rows; first row X 1000, second row X 3\n",
        "df_ms = df.multiply([1000, 3], axis=0)\n",
        "print('After multiply - first row X 1000, second row X 3')\n",
        "print('{}\\n'.format(df_ms))"
      ],
      "execution_count": 0,
      "outputs": []
    },
    {
      "cell_type": "code",
      "metadata": {
        "id": "lMXXz5Bvooe3",
        "colab_type": "code",
        "colab": {}
      },
      "source": [
        "# print the dataframe as is\n",
        "print('Before multiply')\n",
        "print('{}\\n'.format(df)) \n",
        "# multiply columns, no axis specified\n",
        "df_ms1 = df.multiply([10, 20, 30]) # if axis is not specified, columns are multipled by default\n",
        "print('{}\\n'.format(df_ms1))"
      ],
      "execution_count": 0,
      "outputs": []
    },
    {
      "cell_type": "code",
      "metadata": {
        "id": "RRR01gOtqROQ",
        "colab_type": "code",
        "colab": {}
      },
      "source": [
        "print('Dataframe - Initial')\n",
        "print('{}\\n'.format(df)) \n",
        "df_ms = df.multiply([1000, 3], axis=0)\n",
        "print('Dataframe - After multiply : first row X 1000, second row X 3')\n",
        "print('{}\\n'.format(df_ms))\n",
        "print('Dataframe - After multiply : first column X 1, second column X 0.5, third column X 1')\n",
        "df_w = df_ms.multiply([1,0.5,1])\n",
        "print('{}\\n'.format(df_w))\n",
        "print('Dataframe - sum(axis=1) : row-wise sum, calculated along the direction of columns (horizontal)')\n",
        "print('{}\\n'.format(df_w.sum(axis=1))) # row-wise sum, calculated along the direction of columns (horizontal)\n",
        "print('Dataframe - sum(axis=0) : column-wise sum, calculated along the direction of rows (down)')\n",
        "print('{}\\n'.format(df_w.sum(axis=0))) # column-wise sum, calculated along the direction of rows (down)"
      ],
      "execution_count": 0,
      "outputs": []
    },
    {
      "cell_type": "markdown",
      "metadata": {
        "id": "mu16qHg_4YFi",
        "colab_type": "text"
      },
      "source": [
        "# Axis"
      ]
    },
    {
      "cell_type": "code",
      "metadata": {
        "id": "Dd372VLM4pzh",
        "colab_type": "code",
        "outputId": "3ea0efe0-53e9-48ce-d8a0-a35a78dd2b5d",
        "colab": {
          "base_uri": "https://localhost:8080/",
          "height": 646
        }
      },
      "source": [
        "# Understanding axis=0 & axis=1 in pandas\n",
        "import numpy as np\n",
        "df = pd.DataFrame(np.ones((3,4)))\n",
        "df.columns = ['a','b','c','d']\n",
        "print('A 3X4 all-ones dataframe...')\n",
        "print(df)\n",
        "df_m1 = df.multiply([1,2,3], axis=0)\n",
        "df_m2 = df.multiply([1,2,3,4], axis=1)\n",
        "print('df_m1 = Multiply 1,2,3.. along axis=0, i.e. down along the direction of the rows')\n",
        "print(df_m1)\n",
        "# row-wise sum for df_m1\n",
        "print('row-wise sum for df_m1')\n",
        "print(df_m1.sum(axis=1))\n",
        "# column-wise sum for df_m1\n",
        "print('column-wise sum for df_m1')\n",
        "print(df_m1.sum(axis=0))\n",
        "print('df_m2 = Multiply 1,2,3,4.. along axis=1, i.e. horizontal along the direction of the columns')\n",
        "print(df_m2)\n",
        "# row-wise sum for df_m2\n",
        "print('row-wise sum for df_m2')\n",
        "print(df_m2.sum(axis=1))\n",
        "# column-wise sum for df_m2\n",
        "print('column-wise sum for df_m2')\n",
        "print(df_m2.sum(axis=0))"
      ],
      "execution_count": 0,
      "outputs": [
        {
          "output_type": "stream",
          "text": [
            "A 3X4 all-ones dataframe...\n",
            "     a    b    c    d\n",
            "0  1.0  1.0  1.0  1.0\n",
            "1  1.0  1.0  1.0  1.0\n",
            "2  1.0  1.0  1.0  1.0\n",
            "df_m1 = Multiply 1,2,3.. along axis=0, i.e. down along the direction of the rows\n",
            "     a    b    c    d\n",
            "0  1.0  1.0  1.0  1.0\n",
            "1  2.0  2.0  2.0  2.0\n",
            "2  3.0  3.0  3.0  3.0\n",
            "row-wise sum for df_m1\n",
            "0     4.0\n",
            "1     8.0\n",
            "2    12.0\n",
            "dtype: float64\n",
            "column-wise sum for df_m1\n",
            "a    6.0\n",
            "b    6.0\n",
            "c    6.0\n",
            "d    6.0\n",
            "dtype: float64\n",
            "df_m2 = Multiply 1,2,3,4.. along axis=1, i.e. horizontal along the direction of the columns\n",
            "     a    b    c    d\n",
            "0  1.0  2.0  3.0  4.0\n",
            "1  1.0  2.0  3.0  4.0\n",
            "2  1.0  2.0  3.0  4.0\n",
            "row-wise sum for df_m2\n",
            "0    10.0\n",
            "1    10.0\n",
            "2    10.0\n",
            "dtype: float64\n",
            "column-wise sum for df_m2\n",
            "a     3.0\n",
            "b     6.0\n",
            "c     9.0\n",
            "d    12.0\n",
            "dtype: float64\n"
          ],
          "name": "stdout"
        }
      ]
    },
    {
      "cell_type": "markdown",
      "metadata": {
        "id": "dX_J3cX7cBip",
        "colab_type": "text"
      },
      "source": [
        "# Filtering"
      ]
    },
    {
      "cell_type": "markdown",
      "metadata": {
        "id": "NEzxrDm4qRfg",
        "colab_type": "text"
      },
      "source": [
        "# Metrics"
      ]
    },
    {
      "cell_type": "markdown",
      "metadata": {
        "id": "vAJPh0LuqVG-",
        "colab_type": "text"
      },
      "source": [
        "Using *describe* with a DataFrame will return a summary of metrics for each of the DataFrame's numeric features.\n",
        "\n",
        "With categorical features, we don't calculate metrics like mean, standard deviation, etc. Instead, we use *frequency counts* to describe a categorical feature."
      ]
    },
    {
      "cell_type": "code",
      "metadata": {
        "id": "tmk2-Xt-xTlZ",
        "colab_type": "code",
        "colab": {}
      },
      "source": [
        "import matplotlib.pyplot as plt\n",
        "df_w.plot()\n",
        "plt.show()"
      ],
      "execution_count": 0,
      "outputs": []
    },
    {
      "cell_type": "markdown",
      "metadata": {
        "id": "68ZO-XW31eiT",
        "colab_type": "text"
      },
      "source": [
        "# Categorical Data"
      ]
    },
    {
      "cell_type": "markdown",
      "metadata": {
        "id": "AzAXPmmE1i26",
        "colab_type": "text"
      },
      "source": [
        "In pandas, we convert each categorical feature of a DataFrame to indicator features with the *get_dummies* function."
      ]
    },
    {
      "cell_type": "code",
      "metadata": {
        "id": "e2oaJBBE1pue",
        "colab_type": "code",
        "colab": {}
      },
      "source": [
        "converted = pd.get_dummies(df)"
      ],
      "execution_count": 0,
      "outputs": []
    }
  ]
}