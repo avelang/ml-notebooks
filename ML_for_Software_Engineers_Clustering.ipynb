{
  "nbformat": 4,
  "nbformat_minor": 0,
  "metadata": {
    "colab": {
      "name": "ML_for_Software_Engineers_Clustering.ipynb",
      "provenance": [],
      "authorship_tag": "ABX9TyOtoFq84MlT6I2Tnn8I2mhj",
      "include_colab_link": true
    },
    "kernelspec": {
      "name": "python3",
      "display_name": "Python 3"
    }
  },
  "cells": [
    {
      "cell_type": "markdown",
      "metadata": {
        "id": "view-in-github",
        "colab_type": "text"
      },
      "source": [
        "<a href=\"https://colab.research.google.com/github/avelang/ml-notebooks/blob/master/ML_for_Software_Engineers_Clustering.ipynb\" target=\"_parent\"><img src=\"https://colab.research.google.com/assets/colab-badge.svg\" alt=\"Open In Colab\"/></a>"
      ]
    },
    {
      "cell_type": "code",
      "metadata": {
        "id": "s9Mq2h_dIxT3",
        "colab_type": "code",
        "colab": {}
      },
      "source": [
        ""
      ],
      "execution_count": 0,
      "outputs": []
    },
    {
      "cell_type": "markdown",
      "metadata": {
        "id": "JZQQA_9nI7ke",
        "colab_type": "text"
      },
      "source": [
        "# Nearest Neighbours"
      ]
    },
    {
      "cell_type": "markdown",
      "metadata": {
        "id": "3-StIGM2I_me",
        "colab_type": "text"
      },
      "source": [
        "# K-means clustering"
      ]
    },
    {
      "cell_type": "markdown",
      "metadata": {
        "id": "t3F29BvvJSis",
        "colab_type": "text"
      },
      "source": [
        "Definition"
      ]
    },
    {
      "cell_type": "code",
      "metadata": {
        "id": "wYafl8k3JlQ7",
        "colab_type": "code",
        "colab": {}
      },
      "source": [
        "# Code Snippet"
      ],
      "execution_count": 0,
      "outputs": []
    },
    {
      "cell_type": "markdown",
      "metadata": {
        "id": "-kSG2r-eJF-d",
        "colab_type": "text"
      },
      "source": [
        "# Hierarchial Clustering"
      ]
    },
    {
      "cell_type": "markdown",
      "metadata": {
        "id": "EXPLU-fCJUnQ",
        "colab_type": "text"
      },
      "source": [
        "# Mean Shift Clustering"
      ]
    },
    {
      "cell_type": "markdown",
      "metadata": {
        "id": "F24CwgXqJYyH",
        "colab_type": "text"
      },
      "source": [
        "# DBSCAN"
      ]
    }
  ]
}