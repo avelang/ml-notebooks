{
  "nbformat": 4,
  "nbformat_minor": 0,
  "metadata": {
    "colab": {
      "name": "ML_for_Software_Engineers_Clustering.ipynb",
      "provenance": [],
      "toc_visible": true,
      "authorship_tag": "ABX9TyOXXZqBipaFsDIVwrI7LeDg",
      "include_colab_link": true
    },
    "kernelspec": {
      "name": "python3",
      "display_name": "Python 3"
    }
  },
  "cells": [
    {
      "cell_type": "markdown",
      "metadata": {
        "id": "view-in-github",
        "colab_type": "text"
      },
      "source": [
        "<a href=\"https://colab.research.google.com/github/avelang/ml-notebooks/blob/master/ML_for_Software_Engineers_Clustering.ipynb\" target=\"_parent\"><img src=\"https://colab.research.google.com/assets/colab-badge.svg\" alt=\"Open In Colab\"/></a>"
      ]
    },
    {
      "cell_type": "markdown",
      "metadata": {
        "id": "SlohGK2DOnrE",
        "colab_type": "text"
      },
      "source": [
        "# Cosine Similarity"
      ]
    },
    {
      "cell_type": "markdown",
      "metadata": {
        "id": "JZQQA_9nI7ke",
        "colab_type": "text"
      },
      "source": [
        "# Nearest Neighbours"
      ]
    },
    {
      "cell_type": "markdown",
      "metadata": {
        "id": "3-StIGM2I_me",
        "colab_type": "text"
      },
      "source": [
        "# K-means clustering"
      ]
    },
    {
      "cell_type": "markdown",
      "metadata": {
        "id": "t3F29BvvJSis",
        "colab_type": "text"
      },
      "source": [
        "Definition"
      ]
    },
    {
      "cell_type": "code",
      "metadata": {
        "id": "wYafl8k3JlQ7",
        "colab_type": "code",
        "colab": {}
      },
      "source": [
        "# Code Snippet"
      ],
      "execution_count": 0,
      "outputs": []
    },
    {
      "cell_type": "markdown",
      "metadata": {
        "id": "-kSG2r-eJF-d",
        "colab_type": "text"
      },
      "source": [
        "# Hierarchial Clustering"
      ]
    },
    {
      "cell_type": "markdown",
      "metadata": {
        "id": "_EIYJ4u7Q9UP",
        "colab_type": "text"
      },
      "source": [
        "Hierarchical clustering allows us to cluster any type of data, since it doesn't make any assumptions about the data or clusters.\n",
        "\n",
        "There are two approaches to hierarchical clustering: bottom-up (divisive) and top-down (agglomerative)."
      ]
    },
    {
      "cell_type": "code",
      "metadata": {
        "id": "08z9qIIkRJrL",
        "colab_type": "code",
        "colab": {}
      },
      "source": [
        "from sklearn.cluster import AgglomerativeClustering\n",
        "agg = AgglomerativeClustering(n_clusters=3) # specify the number of clusters\n",
        "# predefined data\n",
        "agg.fit(data)\n"
      ],
      "execution_count": 0,
      "outputs": []
    },
    {
      "cell_type": "markdown",
      "metadata": {
        "id": "EXPLU-fCJUnQ",
        "colab_type": "text"
      },
      "source": [
        "# Mean Shift Clustering\n",
        "\n",
        "*   Number of clusters is not assumed\n",
        "\n"
      ]
    },
    {
      "cell_type": "code",
      "metadata": {
        "id": "EuGtV8RhT3or",
        "colab_type": "code",
        "colab": {}
      },
      "source": [
        "from sklearn.cluster import MeanShift\n",
        "mean_shift = MeanShift() # no need to specify the number of clusters"
      ],
      "execution_count": 0,
      "outputs": []
    },
    {
      "cell_type": "markdown",
      "metadata": {
        "id": "F24CwgXqJYyH",
        "colab_type": "text"
      },
      "source": [
        "# DBSCAN"
      ]
    }
  ]
}